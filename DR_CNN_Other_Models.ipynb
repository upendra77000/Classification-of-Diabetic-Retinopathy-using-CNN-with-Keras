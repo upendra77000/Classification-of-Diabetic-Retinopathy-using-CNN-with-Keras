{
  "cells": [
    {
      "cell_type": "code",
      "execution_count": null,
      "id": "0aaa6145",
      "metadata": {
        "id": "0aaa6145"
      },
      "outputs": [],
      "source": [
        "import os\n",
        "import cv2\n",
        "import numpy as np\n",
        "from tqdm import tqdm \n",
        "from PIL import Image, ImageOps\n",
        "\n",
        "from keras.layers import Input\n",
        "from keras.models import Sequential\n",
        "from keras.models import Model\n",
        "from keras.models import load_model\n",
        "from keras.layers import Convolution2D,BatchNormalization\n",
        "from keras.layers import GlobalAveragePooling2D,MaxPooling2D\n",
        "from keras.layers import Dense,Flatten,Dropout \n",
        "from keras.callbacks import EarlyStopping, ModelCheckpoint\n",
        "from keras.callbacks import History\n",
        "from keras.callbacks import ReduceLROnPlateau\n",
        "from keras.preprocessing.image import ImageDataGenerator\n",
        "from tensorflow.keras.optimizers import Adam\n",
        "import matplotlib.pyplot as plt\n",
        "from sklearn import metrics\n",
        "from sklearn.metrics import confusion_matrix\n",
        "import itertools\n",
        "%matplotlib inline"
      ]
    },
    {
      "cell_type": "code",
      "source": [
        "from google.colab import drive\n",
        "drive.mount('/content/drive')"
      ],
      "metadata": {
        "colab": {
          "base_uri": "https://localhost:8080/"
        },
        "id": "XwPamBrJdc9v",
        "outputId": "9da3ce8a-1796-4b53-8eaa-b88855948798"
      },
      "id": "XwPamBrJdc9v",
      "execution_count": null,
      "outputs": [
        {
          "output_type": "stream",
          "name": "stdout",
          "text": [
            "Mounted at /content/drive\n"
          ]
        }
      ]
    },
    {
      "cell_type": "code",
      "execution_count": null,
      "id": "c9268cfe",
      "metadata": {
        "id": "c9268cfe"
      },
      "outputs": [],
      "source": [
        "train_folder=r'/content/drive/MyDrive/preprocessed_train_images'\n",
        "\n",
        "image_size = (256,256) \n",
        "inputShape=(256,256,3)\n",
        "num_classes = 5 "
      ]
    },
    {
      "cell_type": "code",
      "execution_count": null,
      "id": "4a5be785",
      "metadata": {
        "colab": {
          "base_uri": "https://localhost:8080/"
        },
        "id": "4a5be785",
        "outputId": "b13cd250-40d7-4a32-9f49-f088627e2348"
      },
      "outputs": [
        {
          "output_type": "stream",
          "name": "stdout",
          "text": [
            "Found 2931 images belonging to 5 classes.\n",
            "Found 731 images belonging to 5 classes.\n"
          ]
        }
      ],
      "source": [
        "train_datagen = ImageDataGenerator(rescale = 1./255,\n",
        "                                   validation_split=0.2,\n",
        "                                   horizontal_flip=True)\n",
        "\n",
        "training_set = train_datagen.flow_from_directory(train_folder,\n",
        "                                                 image_size,\n",
        "                                                 batch_size=16,\n",
        "                                                 class_mode = 'categorical',\n",
        "                                                 subset='training')\n",
        "\n",
        "validation_set = train_datagen.flow_from_directory(train_folder,\n",
        "                                                  image_size,\n",
        "                                                  batch_size=16, \n",
        "                                                  class_mode = 'categorical',\n",
        "                                                  subset='validation')"
      ]
    },
    {
      "cell_type": "code",
      "execution_count": null,
      "id": "48479172",
      "metadata": {
        "id": "48479172"
      },
      "outputs": [],
      "source": [
        "def plot_model_history(history):\n",
        "    print(history.history.keys())\n",
        "    # summarize history for accuracy\n",
        "    plt.plot(history.history['accuracy'])\n",
        "    plt.plot(history.history['val_accuracy'])\n",
        "    plt.title('model accuracy')\n",
        "    plt.ylabel('accuracy')\n",
        "    plt.xlabel('epoch')\n",
        "    plt.legend(['train', 'test'], loc='upper left')\n",
        "    plt.show()\n",
        "    # summarize history for loss\n",
        "    plt.plot(history.history['loss'])\n",
        "    plt.plot(history.history['val_loss'])\n",
        "    plt.title('model loss')\n",
        "    plt.ylabel('loss')\n",
        "    plt.xlabel('epoch')\n",
        "    plt.legend(['train', 'test'], loc='upper left')\n",
        "    plt.show()"
      ]
    },
    {
      "cell_type": "code",
      "execution_count": null,
      "id": "ae891183",
      "metadata": {
        "id": "ae891183"
      },
      "outputs": [],
      "source": [
        "def trainNet(training_set, validation_set):\n",
        "    #model = buildNet(num_classes)\n",
        "    history = History()\n",
        "\n",
        "    model_save = ModelCheckpoint('/content/drive/MyDrive/model_vgg16.h5',\n",
        "                                save_best_only = True,\n",
        "                                save_weights_only = False,\n",
        "                                monitor = 'val_loss', \n",
        "                                mode = 'min', verbose = 1)\n",
        "    \n",
        "    lr = ReduceLROnPlateau(monitor = 'val_loss',\n",
        "                              patience = 3,\n",
        "                              verbose = 1,\n",
        "                              mode='auto',\n",
        "                              factor=0.25,\n",
        "                              min_lr=0.000001)\n",
        "\n",
        "    history = model.fit(training_set,\n",
        "                        epochs = 10,\n",
        "                        validation_data = validation_set,\n",
        "                        callbacks = [model_save,lr])\n",
        "    \n",
        "    plot_model_history(history)\n",
        "    return history"
      ]
    },
    {
      "cell_type": "markdown",
      "source": [
        "# **Implementing on MobileNet**"
      ],
      "metadata": {
        "id": "bGRI73qpSMQ9"
      },
      "id": "bGRI73qpSMQ9"
    },
    {
      "cell_type": "code",
      "source": [
        "from keras.applications.mobilenet import MobileNet"
      ],
      "metadata": {
        "id": "PtC9H7Tm-B6k"
      },
      "id": "PtC9H7Tm-B6k",
      "execution_count": null,
      "outputs": []
    },
    {
      "cell_type": "code",
      "execution_count": null,
      "id": "fdfce61c",
      "metadata": {
        "id": "fdfce61c"
      },
      "outputs": [],
      "source": [
        "def define_Mobilenet():\n",
        "    mobilenet = MobileNet(weights= \"imagenet\", include_top=False, input_shape= (256,256,3))  \n",
        "    model = Sequential()\n",
        "    model.add(mobilenet)\n",
        "    model.add(Flatten())\n",
        "    model.add(Dense(512, activation = 'relu'))\n",
        "    model.add(Dense(5, activation = 'softmax')) \n",
        "    opt = Adam(learning_rate=0.00005) \n",
        "    model.compile(optimizer=opt, loss=\"categorical_crossentropy\", metrics=['accuracy'])\n",
        "    return model"
      ]
    },
    {
      "cell_type": "code",
      "execution_count": null,
      "id": "bd620976",
      "metadata": {
        "colab": {
          "base_uri": "https://localhost:8080/"
        },
        "id": "bd620976",
        "outputId": "3ff0c131-459b-4cf2-cfe6-4eb393a0de29"
      },
      "outputs": [
        {
          "output_type": "stream",
          "name": "stdout",
          "text": [
            "WARNING:tensorflow:`input_shape` is undefined or non-square, or `rows` is not in [128, 160, 192, 224]. Weights for input shape (224, 224) will be loaded as the default.\n",
            "Downloading data from https://storage.googleapis.com/tensorflow/keras-applications/mobilenet/mobilenet_1_0_224_tf_no_top.h5\n",
            "17227776/17225924 [==============================] - 0s 0us/step\n",
            "17235968/17225924 [==============================] - 0s 0us/step\n",
            "Model: \"sequential\"\n",
            "_________________________________________________________________\n",
            " Layer (type)                Output Shape              Param #   \n",
            "=================================================================\n",
            " mobilenet_1.00_224 (Functio  (None, 8, 8, 1024)       3228864   \n",
            " nal)                                                            \n",
            "                                                                 \n",
            " flatten (Flatten)           (None, 65536)             0         \n",
            "                                                                 \n",
            " dense (Dense)               (None, 512)               33554944  \n",
            "                                                                 \n",
            " dense_1 (Dense)             (None, 5)                 2565      \n",
            "                                                                 \n",
            "=================================================================\n",
            "Total params: 36,786,373\n",
            "Trainable params: 36,764,485\n",
            "Non-trainable params: 21,888\n",
            "_________________________________________________________________\n"
          ]
        }
      ],
      "source": [
        "model=define_Mobilenet() \n",
        "model.summary()"
      ]
    },
    {
      "cell_type": "code",
      "execution_count": null,
      "id": "2739f2f4",
      "metadata": {
        "scrolled": false,
        "colab": {
          "base_uri": "https://localhost:8080/",
          "height": 1000
        },
        "id": "2739f2f4",
        "outputId": "141af0fb-7e94-4528-d0a3-fd15d5906cee"
      },
      "outputs": [
        {
          "output_type": "stream",
          "name": "stdout",
          "text": [
            "Epoch 1/10\n",
            "184/184 [==============================] - ETA: 0s - loss: 0.4893 - accuracy: 0.8318\n",
            "Epoch 1: val_loss improved from inf to 0.87836, saving model to /content/drive/MyDrive/model_mobilenet.h5\n",
            "184/184 [==============================] - 464s 3s/step - loss: 0.4893 - accuracy: 0.8318 - val_loss: 0.8784 - val_accuracy: 0.7442 - lr: 5.0000e-05\n",
            "Epoch 2/10\n",
            "184/184 [==============================] - ETA: 0s - loss: 0.4145 - accuracy: 0.8536\n",
            "Epoch 2: val_loss improved from 0.87836 to 0.84339, saving model to /content/drive/MyDrive/model_mobilenet.h5\n",
            "184/184 [==============================] - 41s 220ms/step - loss: 0.4145 - accuracy: 0.8536 - val_loss: 0.8434 - val_accuracy: 0.7606 - lr: 5.0000e-05\n",
            "Epoch 3/10\n",
            "184/184 [==============================] - ETA: 0s - loss: 0.2764 - accuracy: 0.9137\n",
            "Epoch 3: val_loss improved from 0.84339 to 0.80028, saving model to /content/drive/MyDrive/model_mobilenet.h5\n",
            "184/184 [==============================] - 40s 219ms/step - loss: 0.2764 - accuracy: 0.9137 - val_loss: 0.8003 - val_accuracy: 0.7483 - lr: 5.0000e-05\n",
            "Epoch 4/10\n",
            "184/184 [==============================] - ETA: 0s - loss: 0.2067 - accuracy: 0.9389\n",
            "Epoch 4: val_loss improved from 0.80028 to 0.75236, saving model to /content/drive/MyDrive/model_mobilenet.h5\n",
            "184/184 [==============================] - 40s 217ms/step - loss: 0.2067 - accuracy: 0.9389 - val_loss: 0.7524 - val_accuracy: 0.7770 - lr: 5.0000e-05\n",
            "Epoch 5/10\n",
            "184/184 [==============================] - ETA: 0s - loss: 0.1667 - accuracy: 0.9529\n",
            "Epoch 5: val_loss did not improve from 0.75236\n",
            "184/184 [==============================] - 37s 202ms/step - loss: 0.1667 - accuracy: 0.9529 - val_loss: 0.8071 - val_accuracy: 0.7688 - lr: 5.0000e-05\n",
            "Epoch 6/10\n",
            "183/184 [============================>.] - ETA: 0s - loss: 0.1293 - accuracy: 0.9696\n",
            "Epoch 6: val_loss did not improve from 0.75236\n",
            "184/184 [==============================] - 36s 193ms/step - loss: 0.1297 - accuracy: 0.9693 - val_loss: 0.8000 - val_accuracy: 0.7688 - lr: 5.0000e-05\n",
            "Epoch 7/10\n",
            "184/184 [==============================] - ETA: 0s - loss: 0.1049 - accuracy: 0.9737\n",
            "Epoch 7: val_loss did not improve from 0.75236\n",
            "\n",
            "Epoch 7: ReduceLROnPlateau reducing learning rate to 1.249999968422344e-05.\n",
            "184/184 [==============================] - 37s 200ms/step - loss: 0.1049 - accuracy: 0.9737 - val_loss: 0.8432 - val_accuracy: 0.7633 - lr: 5.0000e-05\n",
            "Epoch 8/10\n",
            "184/184 [==============================] - ETA: 0s - loss: 0.0754 - accuracy: 0.9836\n",
            "Epoch 8: val_loss did not improve from 0.75236\n",
            "184/184 [==============================] - 36s 193ms/step - loss: 0.0754 - accuracy: 0.9836 - val_loss: 0.7957 - val_accuracy: 0.7825 - lr: 1.2500e-05\n",
            "Epoch 9/10\n",
            "184/184 [==============================] - ETA: 0s - loss: 0.0596 - accuracy: 0.9853\n",
            "Epoch 9: val_loss did not improve from 0.75236\n",
            "184/184 [==============================] - 36s 193ms/step - loss: 0.0596 - accuracy: 0.9853 - val_loss: 0.7773 - val_accuracy: 0.7825 - lr: 1.2500e-05\n",
            "Epoch 10/10\n",
            "184/184 [==============================] - ETA: 0s - loss: 0.0375 - accuracy: 0.9901\n",
            "Epoch 10: val_loss did not improve from 0.75236\n",
            "\n",
            "Epoch 10: ReduceLROnPlateau reducing learning rate to 3.12499992105586e-06.\n",
            "184/184 [==============================] - 35s 191ms/step - loss: 0.0375 - accuracy: 0.9901 - val_loss: 0.8872 - val_accuracy: 0.7798 - lr: 1.2500e-05\n",
            "dict_keys(['loss', 'accuracy', 'val_loss', 'val_accuracy', 'lr'])\n"
          ]
        },
        {
          "output_type": "display_data",
          "data": {
            "text/plain": [
              "<Figure size 432x288 with 1 Axes>"
            ],
            "image/png": "[encoded data removed]"
          },
          "metadata": {
            "needs_background": "light"
          }
        },
        {
          "output_type": "display_data",
          "data": {
            "text/plain": [
              "<Figure size 432x288 with 1 Axes>"
            ],
            "image/png": "[encoded data removed]"
          },
          "metadata": {
            "needs_background": "light"
          }
        }
      ],
      "source": [
        "history = trainNet(training_set=training_set, validation_set=validation_set)"
      ]
    },
    {
      "cell_type": "markdown",
      "source": [
        "# **Implenting on MobileNetV2**"
      ],
      "metadata": {
        "id": "vQETLU58SjrO"
      },
      "id": "vQETLU58SjrO"
    },
    {
      "cell_type": "code",
      "source": [
        "from keras.applications.mobilenet_v2 import MobileNetV2 "
      ],
      "metadata": {
        "id": "3LAdPUdFJl4m"
      },
      "id": "3LAdPUdFJl4m",
      "execution_count": null,
      "outputs": []
    },
    {
      "cell_type": "code",
      "source": [
        "def define_MobilenetV2():\n",
        "    mobilenetv2 = MobileNetV2(weights= \"imagenet\", include_top=False, input_shape= (256,256,3))  \n",
        "    model = Sequential()\n",
        "    model.add(mobilenetv2)\n",
        "    model.add(Flatten())\n",
        "    model.add(Dense(512, activation = 'relu'))\n",
        "    model.add(Dense(5, activation = 'softmax')) \n",
        "    opt = Adam(learning_rate=0.00005) \n",
        "    model.compile(optimizer=opt, loss=\"categorical_crossentropy\", metrics=['accuracy'])\n",
        "    return model"
      ],
      "metadata": {
        "id": "3GZq0fCUMFSs"
      },
      "id": "3GZq0fCUMFSs",
      "execution_count": null,
      "outputs": []
    },
    {
      "cell_type": "code",
      "source": [
        "model=define_MobilenetV2() \n",
        "model.summary()"
      ],
      "metadata": {
        "colab": {
          "base_uri": "https://localhost:8080/"
        },
        "id": "9PChI8qkMv8j",
        "outputId": "da6969c4-8a75-48ad-957f-56a159aa50de"
      },
      "id": "9PChI8qkMv8j",
      "execution_count": null,
      "outputs": [
        {
          "output_type": "stream",
          "name": "stdout",
          "text": [
            "WARNING:tensorflow:`input_shape` is undefined or non-square, or `rows` is not in [96, 128, 160, 192, 224]. Weights for input shape (224, 224) will be loaded as the default.\n",
            "Model: \"sequential_2\"\n",
            "_________________________________________________________________\n",
            " Layer (type)                Output Shape              Param #   \n",
            "=================================================================\n",
            " mobilenetv2_1.00_224 (Funct  (None, 8, 8, 1280)       2257984   \n",
            " ional)                                                          \n",
            "                                                                 \n",
            " flatten_2 (Flatten)         (None, 81920)             0         \n",
            "                                                                 \n",
            " dense_4 (Dense)             (None, 512)               41943552  \n",
            "                                                                 \n",
            " dense_5 (Dense)             (None, 5)                 2565      \n",
            "                                                                 \n",
            "=================================================================\n",
            "Total params: 44,204,101\n",
            "Trainable params: 44,169,989\n",
            "Non-trainable params: 34,112\n",
            "_________________________________________________________________\n"
          ]
        }
      ]
    },
    {
      "cell_type": "code",
      "source": [
        "history = trainNet(training_set=training_set, validation_set=validation_set)"
      ],
      "metadata": {
        "colab": {
          "base_uri": "https://localhost:8080/",
          "height": 1000
        },
        "id": "kfNs4pC_M4Bg",
        "outputId": "8f7568bd-f3cd-49fb-dacd-0fd570b0c888"
      },
      "id": "kfNs4pC_M4Bg",
      "execution_count": null,
      "outputs": [
        {
          "output_type": "stream",
          "name": "stdout",
          "text": [
            "Epoch 1/10\n",
            "184/184 [==============================] - ETA: 0s - loss: 1.0427 - accuracy: 0.6789\n",
            "Epoch 1: val_loss improved from inf to 1.42527, saving model to /content/drive/MyDrive/model_mobilenetv2.h5\n",
            "184/184 [==============================] - 44s 217ms/step - loss: 1.0427 - accuracy: 0.6789 - val_loss: 1.4253 - val_accuracy: 0.6320 - lr: 5.0000e-05\n",
            "Epoch 2/10\n",
            "184/184 [==============================] - ETA: 0s - loss: 0.5243 - accuracy: 0.8144\n",
            "Epoch 2: val_loss did not improve from 1.42527\n",
            "184/184 [==============================] - 37s 201ms/step - loss: 0.5243 - accuracy: 0.8144 - val_loss: 1.7943 - val_accuracy: 0.6566 - lr: 5.0000e-05\n",
            "Epoch 3/10\n",
            "184/184 [==============================] - ETA: 0s - loss: 0.3937 - accuracy: 0.8649\n",
            "Epoch 3: val_loss did not improve from 1.42527\n",
            "184/184 [==============================] - 36s 196ms/step - loss: 0.3937 - accuracy: 0.8649 - val_loss: 2.0403 - val_accuracy: 0.6088 - lr: 5.0000e-05\n",
            "Epoch 4/10\n",
            "184/184 [==============================] - ETA: 0s - loss: 0.2931 - accuracy: 0.9086\n",
            "Epoch 4: val_loss did not improve from 1.42527\n",
            "\n",
            "Epoch 4: ReduceLROnPlateau reducing learning rate to 1.249999968422344e-05.\n",
            "184/184 [==============================] - 36s 197ms/step - loss: 0.2931 - accuracy: 0.9086 - val_loss: 2.4742 - val_accuracy: 0.5951 - lr: 5.0000e-05\n",
            "Epoch 5/10\n",
            "184/184 [==============================] - ETA: 0s - loss: 0.1759 - accuracy: 0.9495\n",
            "Epoch 5: val_loss did not improve from 1.42527\n",
            "184/184 [==============================] - 36s 195ms/step - loss: 0.1759 - accuracy: 0.9495 - val_loss: 2.5121 - val_accuracy: 0.5896 - lr: 1.2500e-05\n",
            "Epoch 6/10\n",
            "184/184 [==============================] - ETA: 0s - loss: 0.1258 - accuracy: 0.9655\n",
            "Epoch 6: val_loss did not improve from 1.42527\n",
            "184/184 [==============================] - 36s 196ms/step - loss: 0.1258 - accuracy: 0.9655 - val_loss: 2.9551 - val_accuracy: 0.5581 - lr: 1.2500e-05\n",
            "Epoch 7/10\n",
            "184/184 [==============================] - ETA: 0s - loss: 0.1031 - accuracy: 0.9744\n",
            "Epoch 7: val_loss did not improve from 1.42527\n",
            "\n",
            "Epoch 7: ReduceLROnPlateau reducing learning rate to 3.12499992105586e-06.\n",
            "184/184 [==============================] - 37s 202ms/step - loss: 0.1031 - accuracy: 0.9744 - val_loss: 3.1611 - val_accuracy: 0.5499 - lr: 1.2500e-05\n",
            "Epoch 8/10\n",
            "184/184 [==============================] - ETA: 0s - loss: 0.0764 - accuracy: 0.9799\n",
            "Epoch 8: val_loss did not improve from 1.42527\n",
            "184/184 [==============================] - 37s 198ms/step - loss: 0.0764 - accuracy: 0.9799 - val_loss: 3.0156 - val_accuracy: 0.5458 - lr: 3.1250e-06\n",
            "Epoch 9/10\n",
            "184/184 [==============================] - ETA: 0s - loss: 0.0638 - accuracy: 0.9853\n",
            "Epoch 9: val_loss did not improve from 1.42527\n",
            "184/184 [==============================] - 36s 197ms/step - loss: 0.0638 - accuracy: 0.9853 - val_loss: 2.6104 - val_accuracy: 0.5828 - lr: 3.1250e-06\n",
            "Epoch 10/10\n",
            "184/184 [==============================] - ETA: 0s - loss: 0.0648 - accuracy: 0.9836\n",
            "Epoch 10: val_loss did not improve from 1.42527\n",
            "\n",
            "Epoch 10: ReduceLROnPlateau reducing learning rate to 1e-06.\n",
            "184/184 [==============================] - 36s 197ms/step - loss: 0.0648 - accuracy: 0.9836 - val_loss: 2.4151 - val_accuracy: 0.5882 - lr: 3.1250e-06\n",
            "dict_keys(['loss', 'accuracy', 'val_loss', 'val_accuracy', 'lr'])\n"
          ]
        },
        {
          "output_type": "display_data",
          "data": {
            "text/plain": [
              "<Figure size 432x288 with 1 Axes>"
            ],
            "image/png": "[encoded data removed]"
          },
          "metadata": {
            "needs_background": "light"
          }
        },
        {
          "output_type": "display_data",
          "data": {
            "text/plain": [
              "<Figure size 432x288 with 1 Axes>"
            ],
            "image/png": "[encoded data removed]"
          },
          "metadata": {
            "needs_background": "light"
          }
        }
      ]
    },
    {
      "cell_type": "markdown",
      "source": [
        "# **Implenting on ResNet**"
      ],
      "metadata": {
        "id": "pjIam1M9SwpE"
      },
      "id": "pjIam1M9SwpE"
    },
    {
      "cell_type": "code",
      "source": [
        "from keras.applications.resnet import ResNet"
      ],
      "metadata": {
        "id": "6AH6BY7eOmUT"
      },
      "id": "6AH6BY7eOmUT",
      "execution_count": null,
      "outputs": []
    },
    {
      "cell_type": "code",
      "source": [
        "def define_ResNet():\n",
        "    resnet = ResNet(weights= \"imagenet\", include_top=False, input_shape= (256,256,3))  \n",
        "    model = Sequential()\n",
        "    model.add(resnet)\n",
        "    model.add(Flatten())\n",
        "    model.add(Dense(512, activation = 'relu'))\n",
        "    model.add(Dense(5, activation = 'softmax')) \n",
        "    opt = Adam(learning_rate=0.00005) \n",
        "    model.compile(optimizer=opt, loss=\"categorical_crossentropy\", metrics=['accuracy'])\n",
        "    return model"
      ],
      "metadata": {
        "id": "43b5w4YHOmI6"
      },
      "id": "43b5w4YHOmI6",
      "execution_count": null,
      "outputs": []
    },
    {
      "cell_type": "code",
      "source": [
        "model=define_MobilenetV2() \n",
        "model.summary()"
      ],
      "metadata": {
        "colab": {
          "base_uri": "https://localhost:8080/"
        },
        "id": "76VMSGZ1Olwy",
        "outputId": "bda22301-f4e1-49d5-86f1-461043681591"
      },
      "id": "76VMSGZ1Olwy",
      "execution_count": null,
      "outputs": [
        {
          "output_type": "stream",
          "name": "stdout",
          "text": [
            "WARNING:tensorflow:`input_shape` is undefined or non-square, or `rows` is not in [96, 128, 160, 192, 224]. Weights for input shape (224, 224) will be loaded as the default.\n",
            "Model: \"sequential_3\"\n",
            "_________________________________________________________________\n",
            " Layer (type)                Output Shape              Param #   \n",
            "=================================================================\n",
            " mobilenetv2_1.00_224 (Funct  (None, 8, 8, 1280)       2257984   \n",
            " ional)                                                          \n",
            "                                                                 \n",
            " flatten_3 (Flatten)         (None, 81920)             0         \n",
            "                                                                 \n",
            " dense_6 (Dense)             (None, 512)               41943552  \n",
            "                                                                 \n",
            " dense_7 (Dense)             (None, 5)                 2565      \n",
            "                                                                 \n",
            "=================================================================\n",
            "Total params: 44,204,101\n",
            "Trainable params: 44,169,989\n",
            "Non-trainable params: 34,112\n",
            "_________________________________________________________________\n"
          ]
        }
      ]
    },
    {
      "cell_type": "code",
      "source": [
        "history = trainNet(training_set=training_set, validation_set=validation_set)"
      ],
      "metadata": {
        "colab": {
          "base_uri": "https://localhost:8080/",
          "height": 1000
        },
        "id": "K8xVVyEdRrJ5",
        "outputId": "4e62d727-34a2-4ab1-997e-64acd1a8c67d"
      },
      "id": "K8xVVyEdRrJ5",
      "execution_count": null,
      "outputs": [
        {
          "output_type": "stream",
          "name": "stdout",
          "text": [
            "Epoch 1/10\n",
            "184/184 [==============================] - ETA: 0s - loss: 1.0580 - accuracy: 0.6830\n",
            "Epoch 1: val_loss improved from inf to 1.83551, saving model to /content/drive/MyDrive/model_resnet.h5\n",
            "184/184 [==============================] - 45s 221ms/step - loss: 1.0580 - accuracy: 0.6830 - val_loss: 1.8355 - val_accuracy: 0.3967 - lr: 5.0000e-05\n",
            "Epoch 2/10\n",
            "184/184 [==============================] - ETA: 0s - loss: 0.5229 - accuracy: 0.8096\n",
            "Epoch 2: val_loss did not improve from 1.83551\n",
            "184/184 [==============================] - 38s 203ms/step - loss: 0.5229 - accuracy: 0.8096 - val_loss: 2.0882 - val_accuracy: 0.3748 - lr: 5.0000e-05\n",
            "Epoch 3/10\n",
            "184/184 [==============================] - ETA: 0s - loss: 0.3795 - accuracy: 0.8772\n",
            "Epoch 3: val_loss improved from 1.83551 to 1.58045, saving model to /content/drive/MyDrive/model_resnet.h5\n",
            "184/184 [==============================] - 42s 226ms/step - loss: 0.3795 - accuracy: 0.8772 - val_loss: 1.5804 - val_accuracy: 0.6005 - lr: 5.0000e-05\n",
            "Epoch 4/10\n",
            "184/184 [==============================] - ETA: 0s - loss: 0.2797 - accuracy: 0.9116\n",
            "Epoch 4: val_loss did not improve from 1.58045\n",
            "184/184 [==============================] - 38s 206ms/step - loss: 0.2797 - accuracy: 0.9116 - val_loss: 1.8779 - val_accuracy: 0.5951 - lr: 5.0000e-05\n",
            "Epoch 5/10\n",
            "184/184 [==============================] - ETA: 0s - loss: 0.2152 - accuracy: 0.9372\n",
            "Epoch 5: val_loss did not improve from 1.58045\n",
            "184/184 [==============================] - 36s 197ms/step - loss: 0.2152 - accuracy: 0.9372 - val_loss: 3.0715 - val_accuracy: 0.5280 - lr: 5.0000e-05\n",
            "Epoch 6/10\n",
            "184/184 [==============================] - ETA: 0s - loss: 0.1523 - accuracy: 0.9567\n",
            "Epoch 6: val_loss did not improve from 1.58045\n",
            "\n",
            "Epoch 6: ReduceLROnPlateau reducing learning rate to 1.249999968422344e-05.\n",
            "184/184 [==============================] - 37s 198ms/step - loss: 0.1523 - accuracy: 0.9567 - val_loss: 1.5860 - val_accuracy: 0.6471 - lr: 5.0000e-05\n",
            "Epoch 7/10\n",
            "184/184 [==============================] - ETA: 0s - loss: 0.0960 - accuracy: 0.9730\n",
            "Epoch 7: val_loss did not improve from 1.58045\n",
            "184/184 [==============================] - 37s 200ms/step - loss: 0.0960 - accuracy: 0.9730 - val_loss: 1.9116 - val_accuracy: 0.6293 - lr: 1.2500e-05\n",
            "Epoch 8/10\n",
            "184/184 [==============================] - ETA: 0s - loss: 0.0816 - accuracy: 0.9795\n",
            "Epoch 8: val_loss did not improve from 1.58045\n",
            "184/184 [==============================] - 38s 206ms/step - loss: 0.0816 - accuracy: 0.9795 - val_loss: 2.3164 - val_accuracy: 0.6074 - lr: 1.2500e-05\n",
            "Epoch 9/10\n",
            "184/184 [==============================] - ETA: 0s - loss: 0.0722 - accuracy: 0.9809\n",
            "Epoch 9: val_loss did not improve from 1.58045\n",
            "\n",
            "Epoch 9: ReduceLROnPlateau reducing learning rate to 3.12499992105586e-06.\n",
            "184/184 [==============================] - 38s 205ms/step - loss: 0.0722 - accuracy: 0.9809 - val_loss: 2.6652 - val_accuracy: 0.5841 - lr: 1.2500e-05\n",
            "Epoch 10/10\n",
            "184/184 [==============================] - ETA: 0s - loss: 0.0483 - accuracy: 0.9881\n",
            "Epoch 10: val_loss did not improve from 1.58045\n",
            "184/184 [==============================] - 40s 216ms/step - loss: 0.0483 - accuracy: 0.9881 - val_loss: 2.4034 - val_accuracy: 0.6074 - lr: 3.1250e-06\n",
            "dict_keys(['loss', 'accuracy', 'val_loss', 'val_accuracy', 'lr'])\n"
          ]
        },
        {
          "output_type": "display_data",
          "data": {
            "text/plain": [
              "<Figure size 432x288 with 1 Axes>"
            ],
            "image/png": "[encoded data removed]"
          },
          "metadata": {
            "needs_background": "light"
          }
        },
        {
          "output_type": "display_data",
          "data": {
            "text/plain": [
              "<Figure size 432x288 with 1 Axes>"
            ],
            "image/png": "[encoded data removed]"
          },
          "metadata": {
            "needs_background": "light"
          }
        }
      ]
    },
    {
      "cell_type": "markdown",
      "source": [
        "# **Implenting on InceptionResNetV2**"
      ],
      "metadata": {
        "id": "J0CeTNabS8NG"
      },
      "id": "J0CeTNabS8NG"
    },
    {
      "cell_type": "code",
      "source": [
        "from keras.applications.inception_resnet_v2 import InceptionResNetV2"
      ],
      "metadata": {
        "id": "6ALPNfMgTAQC"
      },
      "id": "6ALPNfMgTAQC",
      "execution_count": null,
      "outputs": []
    },
    {
      "cell_type": "code",
      "source": [
        "def define_InceptionResNetV2():\n",
        "    incresnetv2 = InceptionResNetV2(weights= \"imagenet\", include_top=False, input_shape= (256,256,3))  \n",
        "    model = Sequential()\n",
        "    model.add(incresnetv2)\n",
        "    model.add(Flatten())\n",
        "    model.add(Dense(512, activation = 'relu'))\n",
        "    model.add(Dense(5, activation = 'softmax')) \n",
        "    opt = Adam(learning_rate=0.00005) \n",
        "    model.compile(optimizer=opt, loss=\"categorical_crossentropy\", metrics=['accuracy'])\n",
        "    return model"
      ],
      "metadata": {
        "id": "FQSi5OFITvqr"
      },
      "id": "FQSi5OFITvqr",
      "execution_count": null,
      "outputs": []
    },
    {
      "cell_type": "code",
      "source": [
        "model=define_MobilenetV2() \n",
        "model.summary()"
      ],
      "metadata": {
        "colab": {
          "base_uri": "https://localhost:8080/"
        },
        "id": "wSvLw9-iTvnF",
        "outputId": "5d84444c-0006-4605-c05d-7703d8838c30"
      },
      "id": "wSvLw9-iTvnF",
      "execution_count": null,
      "outputs": [
        {
          "output_type": "stream",
          "name": "stdout",
          "text": [
            "WARNING:tensorflow:`input_shape` is undefined or non-square, or `rows` is not in [96, 128, 160, 192, 224]. Weights for input shape (224, 224) will be loaded as the default.\n",
            "Model: \"sequential_4\"\n",
            "_________________________________________________________________\n",
            " Layer (type)                Output Shape              Param #   \n",
            "=================================================================\n",
            " mobilenetv2_1.00_224 (Funct  (None, 8, 8, 1280)       2257984   \n",
            " ional)                                                          \n",
            "                                                                 \n",
            " flatten_4 (Flatten)         (None, 81920)             0         \n",
            "                                                                 \n",
            " dense_8 (Dense)             (None, 512)               41943552  \n",
            "                                                                 \n",
            " dense_9 (Dense)             (None, 5)                 2565      \n",
            "                                                                 \n",
            "=================================================================\n",
            "Total params: 44,204,101\n",
            "Trainable params: 44,169,989\n",
            "Non-trainable params: 34,112\n",
            "_________________________________________________________________\n"
          ]
        }
      ]
    },
    {
      "cell_type": "code",
      "source": [
        "history = trainNet(training_set=training_set, validation_set=validation_set)"
      ],
      "metadata": {
        "colab": {
          "base_uri": "https://localhost:8080/",
          "height": 1000
        },
        "id": "SF_pxMPkTvlD",
        "outputId": "e39261fc-61c0-41e7-d9dd-b69f6b558469"
      },
      "id": "SF_pxMPkTvlD",
      "execution_count": null,
      "outputs": [
        {
          "output_type": "stream",
          "name": "stdout",
          "text": [
            "Epoch 1/10\n",
            "184/184 [==============================] - ETA: 0s - loss: 1.1057 - accuracy: 0.6639\n",
            "Epoch 1: val_loss improved from inf to 1.09796, saving model to /content/drive/MyDrive/model_inceptionresnetv2.h5\n",
            "184/184 [==============================] - 44s 213ms/step - loss: 1.1057 - accuracy: 0.6639 - val_loss: 1.0980 - val_accuracy: 0.5896 - lr: 5.0000e-05\n",
            "Epoch 2/10\n",
            "184/184 [==============================] - ETA: 0s - loss: 0.5546 - accuracy: 0.8076\n",
            "Epoch 2: val_loss did not improve from 1.09796\n",
            "184/184 [==============================] - 37s 203ms/step - loss: 0.5546 - accuracy: 0.8076 - val_loss: 2.0087 - val_accuracy: 0.3762 - lr: 5.0000e-05\n",
            "Epoch 3/10\n",
            "184/184 [==============================] - ETA: 0s - loss: 0.3917 - accuracy: 0.8727\n",
            "Epoch 3: val_loss did not improve from 1.09796\n",
            "184/184 [==============================] - 37s 200ms/step - loss: 0.3917 - accuracy: 0.8727 - val_loss: 1.8557 - val_accuracy: 0.4679 - lr: 5.0000e-05\n",
            "Epoch 4/10\n",
            "184/184 [==============================] - ETA: 0s - loss: 0.2821 - accuracy: 0.9055\n",
            "Epoch 4: val_loss did not improve from 1.09796\n",
            "\n",
            "Epoch 4: ReduceLROnPlateau reducing learning rate to 1.249999968422344e-05.\n",
            "184/184 [==============================] - 36s 196ms/step - loss: 0.2821 - accuracy: 0.9055 - val_loss: 2.1221 - val_accuracy: 0.4596 - lr: 5.0000e-05\n",
            "Epoch 5/10\n",
            "184/184 [==============================] - ETA: 0s - loss: 0.1764 - accuracy: 0.9458\n",
            "Epoch 5: val_loss did not improve from 1.09796\n",
            "184/184 [==============================] - 37s 201ms/step - loss: 0.1764 - accuracy: 0.9458 - val_loss: 2.0208 - val_accuracy: 0.5787 - lr: 1.2500e-05\n",
            "Epoch 6/10\n",
            "184/184 [==============================] - ETA: 0s - loss: 0.1188 - accuracy: 0.9628\n",
            "Epoch 6: val_loss did not improve from 1.09796\n",
            "184/184 [==============================] - 37s 199ms/step - loss: 0.1188 - accuracy: 0.9628 - val_loss: 2.2368 - val_accuracy: 0.5609 - lr: 1.2500e-05\n",
            "Epoch 7/10\n",
            "184/184 [==============================] - ETA: 0s - loss: 0.1138 - accuracy: 0.9659\n",
            "Epoch 7: val_loss did not improve from 1.09796\n",
            "\n",
            "Epoch 7: ReduceLROnPlateau reducing learning rate to 3.12499992105586e-06.\n",
            "184/184 [==============================] - 37s 202ms/step - loss: 0.1138 - accuracy: 0.9659 - val_loss: 2.1564 - val_accuracy: 0.5855 - lr: 1.2500e-05\n",
            "Epoch 8/10\n",
            "184/184 [==============================] - ETA: 0s - loss: 0.0884 - accuracy: 0.9771\n",
            "Epoch 8: val_loss did not improve from 1.09796\n",
            "184/184 [==============================] - 36s 196ms/step - loss: 0.0884 - accuracy: 0.9771 - val_loss: 2.0154 - val_accuracy: 0.5978 - lr: 3.1250e-06\n",
            "Epoch 9/10\n",
            "184/184 [==============================] - ETA: 0s - loss: 0.0694 - accuracy: 0.9829\n",
            "Epoch 9: val_loss did not improve from 1.09796\n",
            "184/184 [==============================] - 36s 196ms/step - loss: 0.0694 - accuracy: 0.9829 - val_loss: 2.0335 - val_accuracy: 0.5992 - lr: 3.1250e-06\n",
            "Epoch 10/10\n",
            "184/184 [==============================] - ETA: 0s - loss: 0.0685 - accuracy: 0.9816\n",
            "Epoch 10: val_loss did not improve from 1.09796\n",
            "\n",
            "Epoch 10: ReduceLROnPlateau reducing learning rate to 1e-06.\n",
            "184/184 [==============================] - 36s 195ms/step - loss: 0.0685 - accuracy: 0.9816 - val_loss: 2.1325 - val_accuracy: 0.5978 - lr: 3.1250e-06\n",
            "dict_keys(['loss', 'accuracy', 'val_loss', 'val_accuracy', 'lr'])\n"
          ]
        },
        {
          "output_type": "display_data",
          "data": {
            "text/plain": [
              "<Figure size 432x288 with 1 Axes>"
            ],
            "image/png": "[encoded data removed]"
          },
          "metadata": {
            "needs_background": "light"
          }
        },
        {
          "output_type": "display_data",
          "data": {
            "text/plain": [
              "<Figure size 432x288 with 1 Axes>"
            ],
            "image/png": "[encoded data removed]"
          },
          "metadata": {
            "needs_background": "light"
          }
        }
      ]
    },
    {
      "cell_type": "markdown",
      "source": [
        "# **Implenting on VGG16**"
      ],
      "metadata": {
        "id": "hHfQxyqLWcrl"
      },
      "id": "hHfQxyqLWcrl"
    },
    {
      "cell_type": "code",
      "source": [
        "from keras.applications.vgg16 import VGG16"
      ],
      "metadata": {
        "id": "fbO9WAT3Wqaj"
      },
      "id": "fbO9WAT3Wqaj",
      "execution_count": null,
      "outputs": []
    },
    {
      "cell_type": "code",
      "source": [
        "def define_VGG16():\n",
        "    vgg16 = VGG16(weights= \"imagenet\", include_top=False, input_shape= (256,256,3))  \n",
        "    model = Sequential()\n",
        "    model.add(vgg16)\n",
        "    model.add(Flatten())\n",
        "    model.add(Dense(512, activation = 'relu'))\n",
        "    model.add(Dense(5, activation = 'softmax')) \n",
        "    opt = Adam(learning_rate=0.00005) \n",
        "    model.compile(optimizer=opt, loss=\"categorical_crossentropy\", metrics=['accuracy'])\n",
        "    return model"
      ],
      "metadata": {
        "id": "0G8-1aeXWzi1"
      },
      "id": "0G8-1aeXWzi1",
      "execution_count": null,
      "outputs": []
    },
    {
      "cell_type": "code",
      "source": [
        "model=define_MobilenetV2() \n",
        "model.summary()"
      ],
      "metadata": {
        "colab": {
          "base_uri": "https://localhost:8080/"
        },
        "id": "UPP5DRACW6KE",
        "outputId": "f2cc4e8a-016e-4222-a9a6-4ce9fec93297"
      },
      "id": "UPP5DRACW6KE",
      "execution_count": null,
      "outputs": [
        {
          "output_type": "stream",
          "name": "stdout",
          "text": [
            "WARNING:tensorflow:`input_shape` is undefined or non-square, or `rows` is not in [96, 128, 160, 192, 224]. Weights for input shape (224, 224) will be loaded as the default.\n",
            "Model: \"sequential_5\"\n",
            "_________________________________________________________________\n",
            " Layer (type)                Output Shape              Param #   \n",
            "=================================================================\n",
            " mobilenetv2_1.00_224 (Funct  (None, 8, 8, 1280)       2257984   \n",
            " ional)                                                          \n",
            "                                                                 \n",
            " flatten_5 (Flatten)         (None, 81920)             0         \n",
            "                                                                 \n",
            " dense_10 (Dense)            (None, 512)               41943552  \n",
            "                                                                 \n",
            " dense_11 (Dense)            (None, 5)                 2565      \n",
            "                                                                 \n",
            "=================================================================\n",
            "Total params: 44,204,101\n",
            "Trainable params: 44,169,989\n",
            "Non-trainable params: 34,112\n",
            "_________________________________________________________________\n"
          ]
        }
      ]
    },
    {
      "cell_type": "code",
      "source": [
        "history = trainNet(training_set=training_set, validation_set=validation_set)"
      ],
      "metadata": {
        "colab": {
          "base_uri": "https://localhost:8080/",
          "height": 1000
        },
        "id": "T62mdCdLXJFk",
        "outputId": "05226499-caa0-4ecd-df23-93b45912dee8"
      },
      "id": "T62mdCdLXJFk",
      "execution_count": null,
      "outputs": [
        {
          "output_type": "stream",
          "name": "stdout",
          "text": [
            "Epoch 1/10\n",
            "184/184 [==============================] - ETA: 0s - loss: 1.0217 - accuracy: 0.6721\n",
            "Epoch 1: val_loss improved from inf to 1.62725, saving model to /content/drive/MyDrive/model_vgg16.h5\n",
            "184/184 [==============================] - 44s 217ms/step - loss: 1.0217 - accuracy: 0.6721 - val_loss: 1.6272 - val_accuracy: 0.5198 - lr: 5.0000e-05\n",
            "Epoch 2/10\n",
            "184/184 [==============================] - ETA: 0s - loss: 0.5157 - accuracy: 0.8216\n",
            "Epoch 2: val_loss did not improve from 1.62725\n",
            "184/184 [==============================] - 37s 201ms/step - loss: 0.5157 - accuracy: 0.8216 - val_loss: 2.0141 - val_accuracy: 0.5691 - lr: 5.0000e-05\n",
            "Epoch 3/10\n",
            "184/184 [==============================] - ETA: 0s - loss: 0.3903 - accuracy: 0.8663\n",
            "Epoch 3: val_loss did not improve from 1.62725\n",
            "184/184 [==============================] - 38s 207ms/step - loss: 0.3903 - accuracy: 0.8663 - val_loss: 1.9317 - val_accuracy: 0.5595 - lr: 5.0000e-05\n",
            "Epoch 4/10\n",
            "184/184 [==============================] - ETA: 0s - loss: 0.2818 - accuracy: 0.9147\n",
            "Epoch 4: val_loss did not improve from 1.62725\n",
            "\n",
            "Epoch 4: ReduceLROnPlateau reducing learning rate to 1.249999968422344e-05.\n",
            "184/184 [==============================] - 36s 194ms/step - loss: 0.2818 - accuracy: 0.9147 - val_loss: 2.6080 - val_accuracy: 0.5650 - lr: 5.0000e-05\n",
            "Epoch 5/10\n",
            "184/184 [==============================] - ETA: 0s - loss: 0.1702 - accuracy: 0.9519\n",
            "Epoch 5: val_loss did not improve from 1.62725\n",
            "184/184 [==============================] - 36s 194ms/step - loss: 0.1702 - accuracy: 0.9519 - val_loss: 2.7449 - val_accuracy: 0.5486 - lr: 1.2500e-05\n",
            "Epoch 6/10\n",
            "184/184 [==============================] - ETA: 0s - loss: 0.1222 - accuracy: 0.9676\n",
            "Epoch 6: val_loss did not improve from 1.62725\n",
            "184/184 [==============================] - 36s 196ms/step - loss: 0.1222 - accuracy: 0.9676 - val_loss: 3.0278 - val_accuracy: 0.5458 - lr: 1.2500e-05\n",
            "Epoch 7/10\n",
            "184/184 [==============================] - ETA: 0s - loss: 0.1053 - accuracy: 0.9724\n",
            "Epoch 7: val_loss did not improve from 1.62725\n",
            "\n",
            "Epoch 7: ReduceLROnPlateau reducing learning rate to 3.12499992105586e-06.\n",
            "184/184 [==============================] - 36s 196ms/step - loss: 0.1053 - accuracy: 0.9724 - val_loss: 2.4400 - val_accuracy: 0.5732 - lr: 1.2500e-05\n",
            "Epoch 8/10\n",
            "184/184 [==============================] - ETA: 0s - loss: 0.0840 - accuracy: 0.9809\n",
            "Epoch 8: val_loss did not improve from 1.62725\n",
            "184/184 [==============================] - 36s 194ms/step - loss: 0.0840 - accuracy: 0.9809 - val_loss: 2.7913 - val_accuracy: 0.5581 - lr: 3.1250e-06\n",
            "Epoch 9/10\n",
            "184/184 [==============================] - ETA: 0s - loss: 0.0622 - accuracy: 0.9833\n",
            "Epoch 9: val_loss did not improve from 1.62725\n",
            "184/184 [==============================] - 37s 201ms/step - loss: 0.0622 - accuracy: 0.9833 - val_loss: 2.9383 - val_accuracy: 0.5581 - lr: 3.1250e-06\n",
            "Epoch 10/10\n",
            "184/184 [==============================] - ETA: 0s - loss: 0.0654 - accuracy: 0.9826\n",
            "Epoch 10: val_loss did not improve from 1.62725\n",
            "\n",
            "Epoch 10: ReduceLROnPlateau reducing learning rate to 1e-06.\n",
            "184/184 [==============================] - 36s 195ms/step - loss: 0.0654 - accuracy: 0.9826 - val_loss: 2.6685 - val_accuracy: 0.5828 - lr: 3.1250e-06\n",
            "dict_keys(['loss', 'accuracy', 'val_loss', 'val_accuracy', 'lr'])\n"
          ]
        },
        {
          "output_type": "display_data",
          "data": {
            "text/plain": [
              "<Figure size 432x288 with 1 Axes>"
            ],
            "image/png": "[encoded data removed]"
          },
          "metadata": {
            "needs_background": "light"
          }
        },
        {
          "output_type": "display_data",
          "data": {
            "text/plain": [
              "<Figure size 432x288 with 1 Axes>"
            ],
            "image/png": "[encoded data removed]"
          },
          "metadata": {
            "needs_background": "light"
          }
        }
      ]
    }
  ],
  "metadata": {
    "kernelspec": {
      "display_name": "Python 3",
      "language": "python",
      "name": "python3"
    },
    "language_info": {
      "codemirror_mode": {
        "name": "ipython",
        "version": 3
      },
      "file_extension": ".py",
      "mimetype": "text/x-python",
      "name": "python",
      "nbconvert_exporter": "python",
      "pygments_lexer": "ipython3",
      "version": "3.8.8"
    },
    "colab": {
      "name": "DR_CNN_Other_Models.ipynb",
      "provenance": [],
      "collapsed_sections": [
        "vQETLU58SjrO",
        "pjIam1M9SwpE",
        "J0CeTNabS8NG",
        "hHfQxyqLWcrl"
      ]
    },
    "accelerator": "GPU"
  },
  "nbformat": 4,
  "nbformat_minor": 5
}